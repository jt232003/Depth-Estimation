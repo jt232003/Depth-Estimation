{
 "cells": [
  {
   "cell_type": "code",
   "execution_count": 1,
   "id": "a3f78c7b",
   "metadata": {
    "_cell_guid": "b1076dfc-b9ad-4769-8c92-a6c4dae69d19",
    "_uuid": "8f2839f25d086af736a60e9eeb907d3b93b6e0e5",
    "execution": {
     "iopub.execute_input": "2025-03-29T18:08:57.186104Z",
     "iopub.status.busy": "2025-03-29T18:08:57.185837Z",
     "iopub.status.idle": "2025-03-29T18:08:57.910828Z",
     "shell.execute_reply": "2025-03-29T18:08:57.910143Z"
    },
    "papermill": {
     "duration": 0.730512,
     "end_time": "2025-03-29T18:08:57.912291",
     "exception": false,
     "start_time": "2025-03-29T18:08:57.181779",
     "status": "completed"
    },
    "tags": []
   },
   "outputs": [],
   "source": [
    "# This Python 3 environment comes with many helpful analytics libraries installed\n",
    "# It is defined by the kaggle/python Docker image: https://github.com/kaggle/docker-python\n",
    "# For example, here's several helpful packages to load\n",
    "\n",
    "import numpy as np # linear algebra\n",
    "import pandas as pd # data processing, CSV file I/O (e.g. pd.read_csv)\n",
    "\n",
    "# Input data files are available in the read-only \"../input/\" directory\n",
    "# For example, running this (by clicking run or pressing Shift+Enter) will list all files under the input directory\n",
    "\n",
    "import os\n",
    "# for dirname, _, filenames in os.walk('/kaggle/input'):\n",
    "#     for filename in filenames:\n",
    "#         print(os.path.join(dirname, filename))\n",
    "\n",
    "# You can write up to 20GB to the current directory (/kaggle/working/) that gets preserved as output when you create a version using \"Save & Run All\" \n",
    "# You can also write temporary files to /kaggle/temp/, but they won't be saved outside of the current session"
   ]
  },
  {
   "cell_type": "code",
   "execution_count": 2,
   "id": "15e12ef3",
   "metadata": {
    "execution": {
     "iopub.execute_input": "2025-03-29T18:08:57.918971Z",
     "iopub.status.busy": "2025-03-29T18:08:57.918597Z",
     "iopub.status.idle": "2025-03-29T18:09:05.605999Z",
     "shell.execute_reply": "2025-03-29T18:09:05.605305Z"
    },
    "papermill": {
     "duration": 7.692006,
     "end_time": "2025-03-29T18:09:05.607455",
     "exception": false,
     "start_time": "2025-03-29T18:08:57.915449",
     "status": "completed"
    },
    "tags": []
   },
   "outputs": [],
   "source": [
    "import os\n",
    "import cv2\n",
    "import torch\n",
    "import numpy as np\n",
    "import pandas as pd\n",
    "import torch.nn as nn\n",
    "import torch.optim as optim\n",
    "import torch.nn.functional as F\n",
    "import torchvision.transforms as transforms\n",
    "from torch.utils.data import Dataset, DataLoader\n",
    "from PIL import Image\n",
    "from tqdm import tqdm"
   ]
  },
  {
   "cell_type": "code",
   "execution_count": 3,
   "id": "edda0c3a",
   "metadata": {
    "execution": {
     "iopub.execute_input": "2025-03-29T18:09:05.613679Z",
     "iopub.status.busy": "2025-03-29T18:09:05.613310Z",
     "iopub.status.idle": "2025-03-29T18:09:05.620371Z",
     "shell.execute_reply": "2025-03-29T18:09:05.619566Z"
    },
    "papermill": {
     "duration": 0.01123,
     "end_time": "2025-03-29T18:09:05.621498",
     "exception": false,
     "start_time": "2025-03-29T18:09:05.610268",
     "status": "completed"
    },
    "tags": []
   },
   "outputs": [],
   "source": [
    "class DepthDataset(Dataset):\n",
    "    def __init__(self, dataframe):\n",
    "        self.dataframe = dataframe\n",
    "        self.transform = transforms.Compose([\n",
    "            transforms.Resize((264, 264)),\n",
    "            transforms.CenterCrop((256, 256)),\n",
    "            transforms.ToTensor(),\n",
    "            transforms.Normalize(mean=[0.485, 0.456, 0.406], std=[0.229, 0.224, 0.225]),\n",
    "        ])\n",
    "        self.depth_transform = transforms.Compose([\n",
    "            transforms.Resize((264, 264)),\n",
    "            transforms.CenterCrop((256, 256)),\n",
    "            transforms.ToTensor(),\n",
    "        ])\n",
    "\n",
    "    def __len__(self):\n",
    "        return len(self.dataframe)\n",
    "\n",
    "    def __getitem__(self, idx):\n",
    "        img_path = self.dataframe.iloc[idx, 0]  # Assuming first column contains image paths\n",
    "        depth_path = self.dataframe.iloc[idx, 1]  # Assuming second column contains depth paths\n",
    "\n",
    "        image = Image.open(img_path).convert(\"RGB\")\n",
    "        depth = Image.open(depth_path).convert(\"L\")\n",
    "\n",
    "        image = self.transform(image)\n",
    "        depth = self.depth_transform(depth)\n",
    "\n",
    "        return image, depth"
   ]
  },
  {
   "cell_type": "code",
   "execution_count": 4,
   "id": "47dfc903",
   "metadata": {
    "execution": {
     "iopub.execute_input": "2025-03-29T18:09:05.627383Z",
     "iopub.status.busy": "2025-03-29T18:09:05.627180Z",
     "iopub.status.idle": "2025-03-29T18:09:05.766130Z",
     "shell.execute_reply": "2025-03-29T18:09:05.765446Z"
    },
    "papermill": {
     "duration": 0.143787,
     "end_time": "2025-03-29T18:09:05.767893",
     "exception": false,
     "start_time": "2025-03-29T18:09:05.624106",
     "status": "completed"
    },
    "tags": []
   },
   "outputs": [],
   "source": [
    "# Create DataFrame for Training Data\n",
    "train_df = pd.DataFrame({\n",
    "    \"image_path\": sorted(os.listdir(\"/kaggle/input/depth-estimation/competition-data/competition-data/training/images\")),\n",
    "    \"depth_path\": sorted(os.listdir(\"/kaggle/input/depth-estimation/competition-data/competition-data/training/depths\"))\n",
    "})\n",
    "\n",
    "train_df[\"image_path\"] = train_df[\"image_path\"].apply(lambda x: os.path.join(\"/kaggle/input/depth-estimation/competition-data/competition-data/training/images\", x))\n",
    "train_df[\"depth_path\"] = train_df[\"depth_path\"].apply(lambda x: os.path.join(\"/kaggle/input/depth-estimation/competition-data/competition-data/training/depths\", x))\n",
    "\n",
    "# Create DataFrame for Validation Data\n",
    "val_df = pd.DataFrame({\n",
    "    \"image_path\": sorted(os.listdir(\"/kaggle/input/depth-estimation/competition-data/competition-data/validation/images\")),\n",
    "    \"depth_path\": sorted(os.listdir(\"/kaggle/input/depth-estimation/competition-data/competition-data/validation/depths\"))\n",
    "})\n",
    "\n",
    "val_df[\"image_path\"] = val_df[\"image_path\"].apply(lambda x: os.path.join(\"/kaggle/input/depth-estimation/competition-data/competition-data/validation/images\", x))\n",
    "val_df[\"depth_path\"] = val_df[\"depth_path\"].apply(lambda x: os.path.join(\"/kaggle/input/depth-estimation/competition-data/competition-data/validation/depths\", x))\n",
    "\n",
    "# Create Datasets and DataLoaders\n",
    "train_dataset = DepthDataset(train_df)\n",
    "val_dataset = DepthDataset(val_df)\n",
    "\n",
    "train_loader = DataLoader(train_dataset, batch_size=8, shuffle=True)\n",
    "val_loader = DataLoader(val_dataset, batch_size=8, shuffle=False)  # No shuffling for validation"
   ]
  },
  {
   "cell_type": "code",
   "execution_count": 5,
   "id": "d6e067e6",
   "metadata": {
    "execution": {
     "iopub.execute_input": "2025-03-29T18:09:05.774124Z",
     "iopub.status.busy": "2025-03-29T18:09:05.773894Z",
     "iopub.status.idle": "2025-03-29T18:09:05.782575Z",
     "shell.execute_reply": "2025-03-29T18:09:05.781991Z"
    },
    "papermill": {
     "duration": 0.013157,
     "end_time": "2025-03-29T18:09:05.783915",
     "exception": false,
     "start_time": "2025-03-29T18:09:05.770758",
     "status": "completed"
    },
    "tags": []
   },
   "outputs": [],
   "source": [
    "import torch\n",
    "import torch.nn as nn\n",
    "import torch.nn.functional as F\n",
    "\n",
    "class UNet(nn.Module):\n",
    "    def __init__(self):\n",
    "        super(UNet, self).__init__()\n",
    "        \n",
    "        def conv_block(in_channels, out_channels):\n",
    "            return nn.Sequential(\n",
    "                nn.Conv2d(in_channels, out_channels, kernel_size=3, padding=1),\n",
    "                nn.GroupNorm(16, out_channels),\n",
    "                nn.ReLU(inplace=True),\n",
    "                nn.Conv2d(out_channels, out_channels, kernel_size=3, padding=1),\n",
    "                nn.GroupNorm(16, out_channels),\n",
    "                nn.ReLU(inplace=True)\n",
    "            )\n",
    "        \n",
    "        self.encoder1 = conv_block(3, 64)\n",
    "        self.encoder2 = conv_block(64, 128)\n",
    "        self.encoder3 = conv_block(128, 256)\n",
    "        self.encoder4 = conv_block(256, 512)\n",
    "        self.encoder5 = conv_block(512, 1024)\n",
    "        \n",
    "        self.pool = nn.MaxPool2d(kernel_size=2, stride=2)\n",
    "        \n",
    "        self.upconv1 = nn.ConvTranspose2d(1024, 512, kernel_size=2, stride=2)\n",
    "        self.decoder1 = conv_block(1024, 512)\n",
    "        \n",
    "        self.upconv2 = nn.ConvTranspose2d(512, 256, kernel_size=2, stride=2)\n",
    "        self.decoder2 = conv_block(512, 256)\n",
    "        \n",
    "        self.upconv3 = nn.ConvTranspose2d(256, 128, kernel_size=2, stride=2)\n",
    "        self.decoder3 = conv_block(256, 128)\n",
    "        \n",
    "        self.upconv4 = nn.ConvTranspose2d(128, 64, kernel_size=2, stride=2)\n",
    "        self.decoder4 = conv_block(128, 64)\n",
    "        \n",
    "        self.final_conv = nn.Conv2d(64, 1, kernel_size=1)\n",
    "        \n",
    "    def forward(self, x):\n",
    "        enc1 = self.encoder1(x)\n",
    "        enc2 = self.encoder2(self.pool(enc1))\n",
    "        enc3 = self.encoder3(self.pool(enc2))\n",
    "        enc4 = self.encoder4(self.pool(enc3))\n",
    "        enc5 = self.encoder5(self.pool(enc4))\n",
    "        \n",
    "        dec1 = self.upconv1(enc5)\n",
    "        dec1 = torch.cat((dec1, enc4), dim=1)\n",
    "        dec1 = self.decoder1(dec1)\n",
    "        \n",
    "        dec2 = self.upconv2(dec1)\n",
    "        dec2 = torch.cat((dec2, enc3), dim=1)\n",
    "        dec2 = self.decoder2(dec2)\n",
    "        \n",
    "        dec3 = self.upconv3(dec2)\n",
    "        dec3 = torch.cat((dec3, enc2), dim=1)\n",
    "        dec3 = self.decoder3(dec3)\n",
    "        \n",
    "        dec4 = self.upconv4(dec3)\n",
    "        dec4 = torch.cat((dec4, enc1), dim=1)\n",
    "        dec4 = self.decoder4(dec4)\n",
    "        \n",
    "        output = torch.sigmoid(self.final_conv(dec4))\n",
    "        return output"
   ]
  },
  {
   "cell_type": "code",
   "execution_count": 6,
   "id": "40b16f6e",
   "metadata": {
    "execution": {
     "iopub.execute_input": "2025-03-29T18:09:05.789601Z",
     "iopub.status.busy": "2025-03-29T18:09:05.789393Z",
     "iopub.status.idle": "2025-03-29T18:09:05.792768Z",
     "shell.execute_reply": "2025-03-29T18:09:05.792171Z"
    },
    "papermill": {
     "duration": 0.007526,
     "end_time": "2025-03-29T18:09:05.793987",
     "exception": false,
     "start_time": "2025-03-29T18:09:05.786461",
     "status": "completed"
    },
    "tags": []
   },
   "outputs": [],
   "source": [
    "def loss_function(y_true, y_pred):\n",
    "    l_depth = torch.mean(torch.abs(y_pred - y_true))\n",
    "    l_mse = torch.mean(torch.abs(y_pred - y_true) ** 2)\n",
    "    w2, w3 = 1.0, 10.0\n",
    "    return (w3 * l_depth) + (w2 * l_mse)"
   ]
  },
  {
   "cell_type": "code",
   "execution_count": 7,
   "id": "42900085",
   "metadata": {
    "execution": {
     "iopub.execute_input": "2025-03-29T18:09:05.799732Z",
     "iopub.status.busy": "2025-03-29T18:09:05.799485Z",
     "iopub.status.idle": "2025-03-29T19:01:07.514907Z",
     "shell.execute_reply": "2025-03-29T19:01:07.513984Z"
    },
    "papermill": {
     "duration": 3122.179681,
     "end_time": "2025-03-29T19:01:07.976188",
     "exception": false,
     "start_time": "2025-03-29T18:09:05.796507",
     "status": "completed"
    },
    "tags": []
   },
   "outputs": [
    {
     "name": "stderr",
     "output_type": "stream",
     "text": [
      "100%|██████████| 836/836 [04:42<00:00,  2.96it/s]\n"
     ]
    },
    {
     "name": "stdout",
     "output_type": "stream",
     "text": [
      "Epoch [1/12], Train Loss: 1.0279, Val Loss: 0.9607\n"
     ]
    },
    {
     "name": "stderr",
     "output_type": "stream",
     "text": [
      "100%|██████████| 836/836 [03:57<00:00,  3.52it/s]\n"
     ]
    },
    {
     "name": "stdout",
     "output_type": "stream",
     "text": [
      "Epoch [2/12], Train Loss: 0.9333, Val Loss: 0.8715\n"
     ]
    },
    {
     "name": "stderr",
     "output_type": "stream",
     "text": [
      "100%|██████████| 836/836 [03:59<00:00,  3.49it/s]\n"
     ]
    },
    {
     "name": "stdout",
     "output_type": "stream",
     "text": [
      "Epoch [3/12], Train Loss: 0.8509, Val Loss: 0.8452\n"
     ]
    },
    {
     "name": "stderr",
     "output_type": "stream",
     "text": [
      "100%|██████████| 836/836 [03:58<00:00,  3.51it/s]\n"
     ]
    },
    {
     "name": "stdout",
     "output_type": "stream",
     "text": [
      "Epoch [4/12], Train Loss: 0.8368, Val Loss: 0.8308\n"
     ]
    },
    {
     "name": "stderr",
     "output_type": "stream",
     "text": [
      "100%|██████████| 836/836 [04:05<00:00,  3.41it/s]\n"
     ]
    },
    {
     "name": "stdout",
     "output_type": "stream",
     "text": [
      "Epoch [5/12], Train Loss: 0.8234, Val Loss: 0.8114\n"
     ]
    },
    {
     "name": "stderr",
     "output_type": "stream",
     "text": [
      "100%|██████████| 836/836 [03:59<00:00,  3.48it/s]\n"
     ]
    },
    {
     "name": "stdout",
     "output_type": "stream",
     "text": [
      "Epoch [6/12], Train Loss: 0.8123, Val Loss: 0.7942\n"
     ]
    },
    {
     "name": "stderr",
     "output_type": "stream",
     "text": [
      "100%|██████████| 836/836 [04:06<00:00,  3.39it/s]\n"
     ]
    },
    {
     "name": "stdout",
     "output_type": "stream",
     "text": [
      "Epoch [7/12], Train Loss: 0.7971, Val Loss: 0.8178\n"
     ]
    },
    {
     "name": "stderr",
     "output_type": "stream",
     "text": [
      "100%|██████████| 836/836 [04:05<00:00,  3.40it/s]\n"
     ]
    },
    {
     "name": "stdout",
     "output_type": "stream",
     "text": [
      "Epoch [8/12], Train Loss: 0.7827, Val Loss: 0.7675\n"
     ]
    },
    {
     "name": "stderr",
     "output_type": "stream",
     "text": [
      "100%|██████████| 836/836 [04:01<00:00,  3.46it/s]\n"
     ]
    },
    {
     "name": "stdout",
     "output_type": "stream",
     "text": [
      "Epoch [9/12], Train Loss: 0.7653, Val Loss: 0.7489\n"
     ]
    },
    {
     "name": "stderr",
     "output_type": "stream",
     "text": [
      "100%|██████████| 836/836 [04:00<00:00,  3.48it/s]\n"
     ]
    },
    {
     "name": "stdout",
     "output_type": "stream",
     "text": [
      "Epoch [10/12], Train Loss: 0.7538, Val Loss: 0.7485\n"
     ]
    },
    {
     "name": "stderr",
     "output_type": "stream",
     "text": [
      "100%|██████████| 836/836 [04:01<00:00,  3.47it/s]\n"
     ]
    },
    {
     "name": "stdout",
     "output_type": "stream",
     "text": [
      "Epoch [11/12], Train Loss: 0.7400, Val Loss: 0.7298\n"
     ]
    },
    {
     "name": "stderr",
     "output_type": "stream",
     "text": [
      "100%|██████████| 836/836 [03:58<00:00,  3.51it/s]\n"
     ]
    },
    {
     "name": "stdout",
     "output_type": "stream",
     "text": [
      "Epoch [12/12], Train Loss: 0.7263, Val Loss: 0.7414\n"
     ]
    }
   ],
   "source": [
    "# Define training parameters\n",
    "device = torch.device(\"cuda\" if torch.cuda.is_available() else \"cpu\")\n",
    "model = UNet().to(device)\n",
    "optimizer = optim.Adam(model.parameters(), lr=0.001)\n",
    "\n",
    "# Training loop\n",
    "epochs = 12\n",
    "for epoch in range(epochs):\n",
    "    model.train()\n",
    "    total_loss = 0\n",
    "\n",
    "    for images, depths in tqdm(train_loader):\n",
    "        images, depths = images.to(device), depths.to(device)\n",
    "\n",
    "        optimizer.zero_grad()\n",
    "        outputs = model(images)\n",
    "        loss = loss_function(outputs, depths)\n",
    "        loss.backward()\n",
    "        optimizer.step()\n",
    "        \n",
    "        total_loss += loss.item()\n",
    "\n",
    "    train_loss = total_loss / len(train_loader)\n",
    "\n",
    "    # Validation Step\n",
    "    model.eval()\n",
    "    total_val_loss = 0\n",
    "    with torch.no_grad():\n",
    "        for images, depths in val_loader:\n",
    "            images, depths = images.to(device), depths.to(device)\n",
    "            outputs = model(images)\n",
    "            loss = loss_function(outputs, depths)\n",
    "            total_val_loss += loss.item()\n",
    "\n",
    "    val_loss = total_val_loss / len(val_loader)\n",
    "\n",
    "    print(f\"Epoch [{epoch+1}/{epochs}], Train Loss: {train_loss:.4f}, Val Loss: {val_loss:.4f}\")"
   ]
  },
  {
   "cell_type": "code",
   "execution_count": 8,
   "id": "4856a3e2",
   "metadata": {
    "execution": {
     "iopub.execute_input": "2025-03-29T19:01:08.924862Z",
     "iopub.status.busy": "2025-03-29T19:01:08.924545Z",
     "iopub.status.idle": "2025-03-29T19:01:08.944881Z",
     "shell.execute_reply": "2025-03-29T19:01:08.944129Z"
    },
    "papermill": {
     "duration": 0.523693,
     "end_time": "2025-03-29T19:01:08.946226",
     "exception": false,
     "start_time": "2025-03-29T19:01:08.422533",
     "status": "completed"
    },
    "tags": []
   },
   "outputs": [],
   "source": [
    "from torch.utils.data import Dataset, DataLoader\n",
    "import torchvision.transforms as transforms\n",
    "from PIL import Image\n",
    "import os\n",
    "\n",
    "class TestDepthDataset(Dataset):\n",
    "    def __init__(self, images_dir, transform=None):\n",
    "        self.images_dir = images_dir\n",
    "        self.image_files = sorted(os.listdir(images_dir))\n",
    "        self.transform = transform\n",
    "\n",
    "    def __len__(self):\n",
    "        return len(self.image_files)\n",
    "\n",
    "    def __getitem__(self, idx):\n",
    "        image_path = os.path.join(self.images_dir, self.image_files[idx])\n",
    "        image = Image.open(image_path).convert(\"RGB\")\n",
    "\n",
    "        if self.transform:\n",
    "            image = self.transform(image)\n",
    "\n",
    "        return image, self.image_files[idx]  # Return filename to save correctly\n",
    "\n",
    "# Define transformation\n",
    "transform = transforms.Compose([\n",
    "    transforms.Resize((128, 128)),\n",
    "    transforms.ToTensor(),\n",
    "])\n",
    "\n",
    "# Initialize test dataset & loader\n",
    "test_images_dir = \"/kaggle/input/depth-estimation/competition-data/competition-data/testing/images\"\n",
    "test_dataset = TestDepthDataset(test_images_dir, transform=transform)\n",
    "test_loader = DataLoader(test_dataset, batch_size=1, shuffle=False)"
   ]
  },
  {
   "cell_type": "code",
   "execution_count": 9,
   "id": "56e17af6",
   "metadata": {
    "execution": {
     "iopub.execute_input": "2025-03-29T19:01:09.840393Z",
     "iopub.status.busy": "2025-03-29T19:01:09.840108Z",
     "iopub.status.idle": "2025-03-29T19:01:20.804266Z",
     "shell.execute_reply": "2025-03-29T19:01:20.803199Z"
    },
    "papermill": {
     "duration": 11.415282,
     "end_time": "2025-03-29T19:01:20.806564",
     "exception": false,
     "start_time": "2025-03-29T19:01:09.391282",
     "status": "completed"
    },
    "tags": []
   },
   "outputs": [],
   "source": [
    "import torch\n",
    "import numpy as np\n",
    "import cv2\n",
    "import os\n",
    "\n",
    "# Define output directory\n",
    "output_dir = \"data/sample_solution\"\n",
    "os.makedirs(output_dir, exist_ok=True)\n",
    "\n",
    "# Switch model to evaluation mode\n",
    "model.eval()\n",
    "\n",
    "# Generate predictions for test data\n",
    "with torch.no_grad():\n",
    "    for idx, (image, filename) in enumerate(test_loader):  # Use test_loader\n",
    "        image = image.to(device)  # Send image to GPU/CPU\n",
    "        prediction = model(image)  # Get model output\n",
    "\n",
    "        # Convert prediction to numpy\n",
    "        prediction = prediction.squeeze().cpu().numpy()\n",
    "        prediction = (prediction - prediction.min()) / (prediction.max() - prediction.min() + 1e-6)\n",
    "        prediction = np.uint8(prediction * 255)\n",
    "\n",
    "        # Save image with the original filename\n",
    "        cv2.imwrite(os.path.join(output_dir, filename[0]), prediction)\n"
   ]
  },
  {
   "cell_type": "code",
   "execution_count": 10,
   "id": "37402f4a",
   "metadata": {
    "execution": {
     "iopub.execute_input": "2025-03-29T19:01:21.770026Z",
     "iopub.status.busy": "2025-03-29T19:01:21.769722Z",
     "iopub.status.idle": "2025-03-29T19:01:32.238367Z",
     "shell.execute_reply": "2025-03-29T19:01:32.237134Z"
    },
    "papermill": {
     "duration": 10.913938,
     "end_time": "2025-03-29T19:01:32.240152",
     "exception": false,
     "start_time": "2025-03-29T19:01:21.326214",
     "status": "completed"
    },
    "tags": []
   },
   "outputs": [],
   "source": [
    "!python /kaggle/input/depth-estimation/imgs2csv.py"
   ]
  },
  {
   "cell_type": "code",
   "execution_count": 11,
   "id": "2ce65903",
   "metadata": {
    "execution": {
     "iopub.execute_input": "2025-03-29T19:01:33.191789Z",
     "iopub.status.busy": "2025-03-29T19:01:33.191436Z",
     "iopub.status.idle": "2025-03-29T19:01:33.195037Z",
     "shell.execute_reply": "2025-03-29T19:01:33.194352Z"
    },
    "papermill": {
     "duration": 0.455077,
     "end_time": "2025-03-29T19:01:33.196285",
     "exception": false,
     "start_time": "2025-03-29T19:01:32.741208",
     "status": "completed"
    },
    "tags": []
   },
   "outputs": [],
   "source": [
    "# rm -rf /kaggle/working/*"
   ]
  }
 ],
 "metadata": {
  "kaggle": {
   "accelerator": "gpu",
   "dataSources": [
    {
     "databundleVersionId": 11466546,
     "sourceId": 96480,
     "sourceType": "competition"
    }
   ],
   "dockerImageVersionId": 30919,
   "isGpuEnabled": true,
   "isInternetEnabled": true,
   "language": "python",
   "sourceType": "notebook"
  },
  "kernelspec": {
   "display_name": "Python 3",
   "language": "python",
   "name": "python3"
  },
  "language_info": {
   "codemirror_mode": {
    "name": "ipython",
    "version": 3
   },
   "file_extension": ".py",
   "mimetype": "text/x-python",
   "name": "python",
   "nbconvert_exporter": "python",
   "pygments_lexer": "ipython3",
   "version": "3.10.12"
  },
  "papermill": {
   "default_parameters": {},
   "duration": 3161.54194,
   "end_time": "2025-03-29T19:01:36.123137",
   "environment_variables": {},
   "exception": null,
   "input_path": "__notebook__.ipynb",
   "output_path": "__notebook__.ipynb",
   "parameters": {},
   "start_time": "2025-03-29T18:08:54.581197",
   "version": "2.6.0"
  }
 },
 "nbformat": 4,
 "nbformat_minor": 5
}
